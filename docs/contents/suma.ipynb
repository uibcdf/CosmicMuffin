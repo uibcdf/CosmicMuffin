{
 "cells": [
  {
   "cell_type": "markdown",
   "id": "a30d41ec-83b9-4ddf-9709-4f73f59597b4",
   "metadata": {},
   "source": [
    "# Suma"
   ]
  },
  {
   "cell_type": "markdown",
   "id": "6f024ce0-3193-469c-aa83-883172c3c4f9",
   "metadata": {},
   "source": [
    "La función suma sirve para sumar"
   ]
  },
  {
   "cell_type": "code",
   "execution_count": 1,
   "id": "8f0e9388-617e-48b1-889a-c9ea709b4fab",
   "metadata": {},
   "outputs": [],
   "source": [
    "import cosmicmuffin"
   ]
  },
  {
   "cell_type": "code",
   "execution_count": 2,
   "id": "b928af78-1ef4-433c-96c1-8f6046dd2c68",
   "metadata": {},
   "outputs": [
    {
     "data": {
      "text/plain": [
       "7"
      ]
     },
     "execution_count": 2,
     "metadata": {},
     "output_type": "execute_result"
    }
   ],
   "source": [
    "cosmicmuffin.suma(3,4)"
   ]
  },
  {
   "cell_type": "code",
   "execution_count": null,
   "id": "dd1a77e0-2f8c-4955-a077-56111a46ba35",
   "metadata": {},
   "outputs": [],
   "source": []
  }
 ],
 "metadata": {
  "kernelspec": {
   "display_name": "Python 3 (ipykernel)",
   "language": "python",
   "name": "python3"
  },
  "language_info": {
   "codemirror_mode": {
    "name": "ipython",
    "version": 3
   },
   "file_extension": ".py",
   "mimetype": "text/x-python",
   "name": "python",
   "nbconvert_exporter": "python",
   "pygments_lexer": "ipython3",
   "version": "3.10.12"
  }
 },
 "nbformat": 4,
 "nbformat_minor": 5
}
