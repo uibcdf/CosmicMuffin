{
 "cells": [
  {
   "cell_type": "markdown",
   "id": "df02e3f2-1c9e-498f-9e13-c0f49216db67",
   "metadata": {},
   "source": [
    "# Desarrollo de CosmicMuffin\n",
    "\n",
    "Esto es un notebook para probar las dos funciones que hasta ahora tiene"
   ]
  },
  {
   "cell_type": "code",
   "execution_count": 1,
   "id": "50624e8d-2330-49d6-843e-ce611da401ef",
   "metadata": {},
   "outputs": [],
   "source": [
    "import cosmicmuffin"
   ]
  },
  {
   "cell_type": "code",
   "execution_count": 2,
   "id": "65464be6-4f00-4daf-b1ad-2fa8b3dedabe",
   "metadata": {},
   "outputs": [
    {
     "name": "stdout",
     "output_type": "stream",
     "text": [
      "Hola! Soy Cosmic Muffin!\n"
     ]
    }
   ],
   "source": [
    "cosmicmuffin.hola()"
   ]
  },
  {
   "cell_type": "code",
   "execution_count": 3,
   "id": "fc54ed9f-76e9-416e-92a1-a8b25cc6fbfc",
   "metadata": {},
   "outputs": [
    {
     "data": {
      "text/plain": [
       "9"
      ]
     },
     "execution_count": 3,
     "metadata": {},
     "output_type": "execute_result"
    }
   ],
   "source": [
    "cosmicmuffin.suma(4,5)"
   ]
  },
  {
   "cell_type": "markdown",
   "id": "59ed42d8-84f8-48bc-9ad6-52452396db46",
   "metadata": {},
   "source": [
    "Todo parece que funciona perfectamente."
   ]
  },
  {
   "cell_type": "code",
   "execution_count": null,
   "id": "69ba811b-52e0-4a19-b0d5-4f1419e40a34",
   "metadata": {},
   "outputs": [],
   "source": []
  }
 ],
 "metadata": {
  "kernelspec": {
   "display_name": "Python 3 (ipykernel)",
   "language": "python",
   "name": "python3"
  },
  "language_info": {
   "codemirror_mode": {
    "name": "ipython",
    "version": 3
   },
   "file_extension": ".py",
   "mimetype": "text/x-python",
   "name": "python",
   "nbconvert_exporter": "python",
   "pygments_lexer": "ipython3",
   "version": "3.10.12"
  }
 },
 "nbformat": 4,
 "nbformat_minor": 5
}
